{
 "cells": [
  {
   "cell_type": "markdown",
   "metadata": {},
   "source": [
    "# NLP Meta Characters practice\n",
    "NLP Processing in Python (Theory and Projects) "
   ]
  },
  {
   "cell_type": "code",
   "execution_count": 58,
   "metadata": {},
   "outputs": [],
   "source": [
    "import re"
   ]
  },
  {
   "cell_type": "code",
   "execution_count": 59,
   "metadata": {},
   "outputs": [
    {
     "name": "stdout",
     "output_type": "stream",
     "text": [
      "asdkfjqoitlskdnfoqwiekhas;ioew=adgoie\n",
      "askdfl_asdkfei_asdjkfla****askeasfff\n"
     ]
    }
   ],
   "source": [
    "# Excersise 3 \n",
    "\n",
    "documents = ['asdfj;laieorkdjf;aliejr;akjdf23k4j;lajds;l',\n",
    "            'asdfjoqweitulad;ai@weutadg;lajoetiuaodkgjier',\n",
    "            'asdkfjqoitlskdnfoqwiekhas;ioew=adgoie',\n",
    "            'askdfl_asdkfei_asdjkfla****askeasfff',\n",
    "            '{{{{{asdfjowei@@##askdfoie}}}}}']\n",
    "\n",
    "\n",
    "\n",
    "for doc in documents:\n",
    "    new_list = []\n",
    "    if len(re.findall('[:,\",{,},(,),@,#,&,0,1,2,3,4,5,6,7,8,9]', doc)) > 0:\n",
    "        pass\n",
    "    else:\n",
    "        print(doc)\n",
    "\n"
   ]
  },
  {
   "cell_type": "code",
   "execution_count": 60,
   "metadata": {},
   "outputs": [
    {
     "name": "stdout",
     "output_type": "stream",
     "text": [
      "'\n"
     ]
    }
   ],
   "source": [
    "print('\\'')"
   ]
  },
  {
   "cell_type": "code",
   "execution_count": 61,
   "metadata": {},
   "outputs": [
    {
     "name": "stdout",
     "output_type": "stream",
     "text": [
      "\\u\n"
     ]
    }
   ],
   "source": [
    "print('\\\\u')"
   ]
  },
  {
   "cell_type": "code",
   "execution_count": 62,
   "metadata": {},
   "outputs": [
    {
     "name": "stdout",
     "output_type": "stream",
     "text": [
      "\\'\n"
     ]
    }
   ],
   "source": [
    "print('\\\\\\'')"
   ]
  },
  {
   "cell_type": "code",
   "execution_count": 63,
   "metadata": {},
   "outputs": [
    {
     "name": "stdout",
     "output_type": "stream",
     "text": [
      "\\section\n"
     ]
    }
   ],
   "source": [
    "print('\\section')"
   ]
  },
  {
   "cell_type": "code",
   "execution_count": 64,
   "metadata": {},
   "outputs": [
    {
     "data": {
      "text/plain": [
       "9"
      ]
     },
     "execution_count": 64,
     "metadata": {},
     "output_type": "execute_result"
    }
   ],
   "source": [
    "# practice excisise 5\n",
    "\n",
    "doc = r'\\n for new  [line, ] \\section and \\document and \\\\\\section \\n'\n",
    "reg_exp = '[[]///]'\n",
    "\n",
    "len(re.findall('[\\[\\]\\\\\\]', doc))"
   ]
  },
  {
   "cell_type": "code",
   "execution_count": 65,
   "metadata": {},
   "outputs": [
    {
     "data": {
      "text/plain": [
       "15"
      ]
     },
     "execution_count": 65,
     "metadata": {},
     "output_type": "execute_result"
    }
   ],
   "source": [
    "doc = '\\n for new [line, ] \\section and \\document and \\\\\\section \\n'\n",
    "sect = '[\\s/d_]'\n",
    "\n",
    "len(re.findall(sect, doc))"
   ]
  },
  {
   "cell_type": "code",
   "execution_count": 66,
   "metadata": {},
   "outputs": [
    {
     "name": "stdout",
     "output_type": "stream",
     "text": [
      "[\\s/d_]\n"
     ]
    }
   ],
   "source": [
    "print(sect)"
   ]
  },
  {
   "cell_type": "code",
   "execution_count": 67,
   "metadata": {},
   "outputs": [
    {
     "name": "stdout",
     "output_type": "stream",
     "text": [
      "['a', 's', 'd', 'f', 'j', ';', 'l', 'a', 'i', 'e', 'o', 'r', 'k', 'd', 'j', 'f', ';', 'a', 'l', 'i', 'e', 'j', 'r', ';', 'a', 'k', 'j', 'd', 'f', 'k', 'j', ';', 'l', 'a', 'j', 'd', 's', ';', 'l', 'a', 's', 'd', 'f', 'j', 'o', 'q', 'w', 'e', 'i', 't', 'u', ' ', ' ', 'l', 'a', 'd', ';', 'a', 'i', '@', 'w', 'e', 'u', 't', 'a', ' ', ' ', ' ', ' ', 'd', 'g', ';', 'l', 'a', 'j', 'o', 'e', 't', 'i', 'u', 'a', 'o', 'd', 'k', 'g', 'j', 'i', 'e', 'r', 'a', 's', 'd', 'k', 'f', 'j', 'q', 'o', 'i', 't', 'l', 's', 'k', 'd', 'n', 'f', 'o', 'q', 'w', 'i', 'e', 'k', 'h', 'a', 's', ';', 'i', 'o', 'e', 'w', '=', 'a', 'd', 'g', 'o', 'i', 'e', 'a', 's', 'k', 'd', 'f', 'l', '_', 'a', 's', 'd', 'k', 'f', 'e', 'i', '_', 'a', 's', 'd', 'j', 'k', 'f', 'l', 'a', '*', '*', '*', '*', 'a', 's', 'k', 'e', 'a', 's', 'f', 'f', 'f', '{', '{', '{', '{', '{', 'a', 's', 'd', 'f', 'j', 'o', 'w', 'e', 'i', '@', '@', '#', '#', 'a', 's', 'k', 'd', 'f', 'o', 'i', 'e', '}', '}', '}', '}', '}']\n",
      "193\n"
     ]
    }
   ],
   "source": [
    "doc = ('asdfj;laieo2rkdjf;ali4ejr;akjdf23k4j;lajds;l'\n",
    "            'asdfjoqweitu  lad;ai@weuta    dg;lajoetiuaodkgjier'\n",
    "            'asdkfjqoitlskdnfoqwiekhas;ioew=adgoie'\n",
    "            'askdfl_asdkfei_asdjkfla****askeasfff'\n",
    "            '{{{{{asdfjowei@@##askdfoie}}}}}')\n",
    "\n",
    "regExp = '[\\D]'\n",
    "rs = re.findall(regExp, doc)\n",
    "print(rs)\n",
    "print(len(rs))"
   ]
  },
  {
   "cell_type": "code",
   "execution_count": 68,
   "metadata": {},
   "outputs": [
    {
     "name": "stdout",
     "output_type": "stream",
     "text": [
      "['Yahoo', 'Yahooo', 'Yahooooooo', 'Yahooooo']\n"
     ]
    }
   ],
   "source": [
    "doc = 'YahooYahoooYahoooooooYahoooooYahoasdfl;akj;lYahoaYahaoo'\n",
    "reg = 'Yahooo*'\n",
    "\n",
    "rs = re.findall(reg, doc)\n",
    "print(rs)\n",
    " "
   ]
  },
  {
   "cell_type": "code",
   "execution_count": 69,
   "metadata": {},
   "outputs": [
    {
     "name": "stdout",
     "output_type": "stream",
     "text": [
      "['asdfj', 'laieorkdjf', 'aliejr', 'akjdf23k4j', 'lajds', 'lasdfjoqweitulad', 'ai', 'weutadg', 'lajoetiuaodkgjierasdkfjqoitlskdnfoqwiekhas', 'ioew', 'adgoieaskdfl_asdkfei_asdjkfla', 'askeasfff', 'asdfjowei', 'askdfoie']\n",
      "14\n"
     ]
    }
   ],
   "source": [
    "doc = ('asdfj;laieorkdjf;aliejr;akjdf23k4j;lajds;l' \n",
    "            'asdfjoqweitulad;ai@weutadg;lajoetiuaodkgjier'\n",
    "            'asdkfjqoitlskdnfoqwiekhas;ioew=adgoie'\n",
    "            'askdfl_asdkfei_asdjkfla****askeasfff'\n",
    "            '{{{{{asdfjowei@@##askdfoie}}}}}')\n",
    "\n",
    "regex = '[a-zA-Z_]\\w*'\n",
    "rs = re.findall(regex, doc)\n",
    "print(rs)\n",
    "print(len(rs))\n"
   ]
  },
  {
   "cell_type": "code",
   "execution_count": 70,
   "metadata": {},
   "outputs": [
    {
     "name": "stdout",
     "output_type": "stream",
     "text": [
      "['var1var2var3func1func2func3']\n"
     ]
    }
   ],
   "source": [
    "list_var = ('var1' 'var2' 'var3' 'func1' 'func2' 'func3')\n",
    "\n",
    "reg_ex = '[a-zA-Z0-9]\\w*'\n",
    "\n",
    "rs = re.findall(reg_ex, list_var)\n",
    "print(rs)\n",
    "\n",
    "\n"
   ]
  },
  {
   "cell_type": "code",
   "execution_count": 82,
   "metadata": {},
   "outputs": [
    {
     "name": "stdout",
     "output_type": "stream",
     "text": [
      "['23']\n"
     ]
    }
   ],
   "source": [
    "doc = ('asdfj;laieorkdjf;aliejr;akjdf23k4j;lajds;l' \n",
    "            'asdfjoqweitulad;ai@weutadg;lajoetiuaodkgjier'\n",
    "            'asdkfjqoitlskdnfoqwiekhas;ioew=adgoie'\n",
    "            'askdfl_asdkfei_asdjkfla****askeasfff'\n",
    "            '{{{{{asdfjowei@@##askdfoie}}}}}')\n",
    "\n",
    "rr = '\\d{2,5}'\n",
    "\n",
    "rs = re.findall(rr, doc)\n",
    "print(rs)"
   ]
  },
  {
   "cell_type": "code",
   "execution_count": 87,
   "metadata": {},
   "outputs": [
    {
     "name": "stdout",
     "output_type": "stream",
     "text": [
      "(0, 17) 0 17 17\n",
      "how are you today ... asdfjla;joeito;angl;a4o3\n"
     ]
    }
   ],
   "source": [
    "# match function \n",
    "\n",
    "doc = '      \\t    \\t   \\t how are you today ... asdfjla;joeito;angl;a4o3'\n",
    "\n",
    "p = re.compile('\\s*')\n",
    "m = p.match(doc)\n",
    "\n",
    "print(m.span(), m.start(), m.end(), len(m.group()))\n",
    "print(doc[m.end():])\n",
    "\n"
   ]
  },
  {
   "cell_type": "code",
   "execution_count": null,
   "metadata": {},
   "outputs": [],
   "source": []
  }
 ],
 "metadata": {
  "interpreter": {
   "hash": "f3358073929bd3d27ff594bc6528257efc4213b34ba9d7c6bd240dce3a23a83d"
  },
  "kernelspec": {
   "display_name": "Python 3.9.7 64-bit ('torch_env': conda)",
   "language": "python",
   "name": "python3"
  },
  "language_info": {
   "codemirror_mode": {
    "name": "ipython",
    "version": 3
   },
   "file_extension": ".py",
   "mimetype": "text/x-python",
   "name": "python",
   "nbconvert_exporter": "python",
   "pygments_lexer": "ipython3",
   "version": "3.9.7"
  },
  "orig_nbformat": 4
 },
 "nbformat": 4,
 "nbformat_minor": 2
}
