{
 "cells": [
  {
   "cell_type": "markdown",
   "metadata": {},
   "source": [
    "# NLP Meta Characters practice\n",
    "NLP Processing in Python (Theory and Projects) "
   ]
  },
  {
   "cell_type": "code",
   "execution_count": 4,
   "metadata": {},
   "outputs": [],
   "source": [
    "import re"
   ]
  },
  {
   "cell_type": "code",
   "execution_count": 5,
   "metadata": {},
   "outputs": [
    {
     "name": "stdout",
     "output_type": "stream",
     "text": [
      "asdkfjqoitlskdnfoqwiekhas;ioew=adgoie\n",
      "askdfl_asdkfei_asdjkfla****askeasfff\n"
     ]
    }
   ],
   "source": [
    "# Excersise 3 \n",
    "\n",
    "documents = ['asdfj;laieorkdjf;aliejr;akjdf23k4j;lajds;l',\n",
    "            'asdfjoqweitulad;ai@weutadg;lajoetiuaodkgjier',\n",
    "            'asdkfjqoitlskdnfoqwiekhas;ioew=adgoie',\n",
    "            'askdfl_asdkfei_asdjkfla****askeasfff',\n",
    "            '{{{{{asdfjowei@@##askdfoie}}}}}']\n",
    "\n",
    "\n",
    "\n",
    "for doc in documents:\n",
    "    new_list = []\n",
    "    if len(re.findall('[:,\",{,},(,),@,#,&,0,1,2,3,4,5,6,7,8,9]', doc)) > 0:\n",
    "        pass\n",
    "    else:\n",
    "        print(doc)\n",
    "\n"
   ]
  },
  {
   "cell_type": "code",
   "execution_count": 6,
   "metadata": {},
   "outputs": [
    {
     "name": "stdout",
     "output_type": "stream",
     "text": [
      "'\n"
     ]
    }
   ],
   "source": [
    "print('\\'')"
   ]
  },
  {
   "cell_type": "code",
   "execution_count": 7,
   "metadata": {},
   "outputs": [
    {
     "name": "stdout",
     "output_type": "stream",
     "text": [
      "\\u\n"
     ]
    }
   ],
   "source": [
    "print('\\\\u')"
   ]
  },
  {
   "cell_type": "code",
   "execution_count": 8,
   "metadata": {},
   "outputs": [
    {
     "name": "stdout",
     "output_type": "stream",
     "text": [
      "\\'\n"
     ]
    }
   ],
   "source": [
    "print('\\\\\\'')"
   ]
  },
  {
   "cell_type": "code",
   "execution_count": 9,
   "metadata": {},
   "outputs": [
    {
     "name": "stdout",
     "output_type": "stream",
     "text": [
      "\\section\n"
     ]
    }
   ],
   "source": [
    "print('\\section')"
   ]
  },
  {
   "cell_type": "code",
   "execution_count": 10,
   "metadata": {},
   "outputs": [
    {
     "data": {
      "text/plain": [
       "9"
      ]
     },
     "execution_count": 10,
     "metadata": {},
     "output_type": "execute_result"
    }
   ],
   "source": [
    "# practice excisise 5\n",
    "\n",
    "doc = r'\\n for new  [line, ] \\section and \\document and \\\\\\section \\n'\n",
    "reg_exp = '[[]///]'\n",
    "\n",
    "len(re.findall('[\\[\\]\\\\\\]', doc))"
   ]
  },
  {
   "cell_type": "code",
   "execution_count": 11,
   "metadata": {},
   "outputs": [
    {
     "data": {
      "text/plain": [
       "15"
      ]
     },
     "execution_count": 11,
     "metadata": {},
     "output_type": "execute_result"
    }
   ],
   "source": [
    "doc = '\\n for new [line, ] \\section and \\document and \\\\\\section \\n'\n",
    "sect = '[\\s/d_]'\n",
    "\n",
    "len(re.findall(sect, doc))"
   ]
  },
  {
   "cell_type": "code",
   "execution_count": 12,
   "metadata": {},
   "outputs": [
    {
     "name": "stdout",
     "output_type": "stream",
     "text": [
      "[\\s/d_]\n"
     ]
    }
   ],
   "source": [
    "print(sect)"
   ]
  },
  {
   "cell_type": "code",
   "execution_count": 13,
   "metadata": {},
   "outputs": [
    {
     "name": "stdout",
     "output_type": "stream",
     "text": [
      "['a', 's', 'd', 'f', 'j', ';', 'l', 'a', 'i', 'e', 'o', 'r', 'k', 'd', 'j', 'f', ';', 'a', 'l', 'i', 'e', 'j', 'r', ';', 'a', 'k', 'j', 'd', 'f', 'k', 'j', ';', 'l', 'a', 'j', 'd', 's', ';', 'l', 'a', 's', 'd', 'f', 'j', 'o', 'q', 'w', 'e', 'i', 't', 'u', ' ', ' ', 'l', 'a', 'd', ';', 'a', 'i', '@', 'w', 'e', 'u', 't', 'a', ' ', ' ', ' ', ' ', 'd', 'g', ';', 'l', 'a', 'j', 'o', 'e', 't', 'i', 'u', 'a', 'o', 'd', 'k', 'g', 'j', 'i', 'e', 'r', 'a', 's', 'd', 'k', 'f', 'j', 'q', 'o', 'i', 't', 'l', 's', 'k', 'd', 'n', 'f', 'o', 'q', 'w', 'i', 'e', 'k', 'h', 'a', 's', ';', 'i', 'o', 'e', 'w', '=', 'a', 'd', 'g', 'o', 'i', 'e', 'a', 's', 'k', 'd', 'f', 'l', '_', 'a', 's', 'd', 'k', 'f', 'e', 'i', '_', 'a', 's', 'd', 'j', 'k', 'f', 'l', 'a', '*', '*', '*', '*', 'a', 's', 'k', 'e', 'a', 's', 'f', 'f', 'f', '{', '{', '{', '{', '{', 'a', 's', 'd', 'f', 'j', 'o', 'w', 'e', 'i', '@', '@', '#', '#', 'a', 's', 'k', 'd', 'f', 'o', 'i', 'e', '}', '}', '}', '}', '}']\n",
      "193\n"
     ]
    }
   ],
   "source": [
    "doc = ('asdfj;laieo2rkdjf;ali4ejr;akjdf23k4j;lajds;l'\n",
    "            'asdfjoqweitu  lad;ai@weuta    dg;lajoetiuaodkgjier'\n",
    "            'asdkfjqoitlskdnfoqwiekhas;ioew=adgoie'\n",
    "            'askdfl_asdkfei_asdjkfla****askeasfff'\n",
    "            '{{{{{asdfjowei@@##askdfoie}}}}}')\n",
    "\n",
    "regExp = '[\\D]'\n",
    "rs = re.findall(regExp, doc)\n",
    "print(rs)\n",
    "print(len(rs))"
   ]
  },
  {
   "cell_type": "code",
   "execution_count": 14,
   "metadata": {},
   "outputs": [
    {
     "name": "stdout",
     "output_type": "stream",
     "text": [
      "['Yahoo', 'Yahooo', 'Yahooooooo', 'Yahooooo']\n"
     ]
    }
   ],
   "source": [
    "doc = 'YahooYahoooYahoooooooYahoooooYahoasdfl;akj;lYahoaYahaoo'\n",
    "reg = 'Yahooo*'\n",
    "\n",
    "rs = re.findall(reg, doc)\n",
    "print(rs)\n",
    " "
   ]
  },
  {
   "cell_type": "code",
   "execution_count": 47,
   "metadata": {},
   "outputs": [
    {
     "name": "stdout",
     "output_type": "stream",
     "text": [
      "['asdfj', 'laieorkdjf', 'aliejr', 'akjdf23k4j', 'lajds', 'lasdfjoqweitulad', 'ai', 'weutadg', 'lajoetiuaodkgjierasdkfjqoitlskdnfoqwiekhas', 'ioew', 'adgoieaskdfl_asdkfei_asdjkfla', 'askeasfff', 'asdfjowei', 'askdfoie']\n",
      "14\n"
     ]
    }
   ],
   "source": [
    "doc = ('asdfj;laieorkdjf;aliejr;akjdf23k4j;lajds;l' \n",
    "            'asdfjoqweitulad;ai@weutadg;lajoetiuaodkgjier'\n",
    "            'asdkfjqoitlskdnfoqwiekhas;ioew=adgoie'\n",
    "            'askdfl_asdkfei_asdjkfla****askeasfff'\n",
    "            '{{{{{asdfjowei@@##askdfoie}}}}}')\n",
    "\n",
    "regex = '[a-zA-Z_]\\w*'\n",
    "rs = re.findall(regex, doc)\n",
    "print(rs)\n",
    "print(len(rs))\n"
   ]
  },
  {
   "cell_type": "code",
   "execution_count": null,
   "metadata": {},
   "outputs": [],
   "source": []
  }
 ],
 "metadata": {
  "interpreter": {
   "hash": "f3358073929bd3d27ff594bc6528257efc4213b34ba9d7c6bd240dce3a23a83d"
  },
  "kernelspec": {
   "display_name": "Python 3.9.7 64-bit ('torch_env': conda)",
   "language": "python",
   "name": "python3"
  },
  "language_info": {
   "codemirror_mode": {
    "name": "ipython",
    "version": 3
   },
   "file_extension": ".py",
   "mimetype": "text/x-python",
   "name": "python",
   "nbconvert_exporter": "python",
   "pygments_lexer": "ipython3",
   "version": "3.9.7"
  },
  "orig_nbformat": 4
 },
 "nbformat": 4,
 "nbformat_minor": 2
}
